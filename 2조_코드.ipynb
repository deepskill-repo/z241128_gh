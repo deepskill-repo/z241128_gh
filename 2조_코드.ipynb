{
 "cells": [
  {
   "cell_type": "markdown",
   "metadata": {},
   "source": [
    "# 작업 노동자 데이터 기반 사고 확률 예측"
   ]
  },
  {
   "cell_type": "markdown",
   "metadata": {},
   "source": [
    "- **공정율 (`progress_rate`)**: 공사의 진행 정도를 나타내는 10% 단위의 비율 (10%, 20%, ..., 90%).\n",
    "- **공사비 (`construction_cost`)**: 해당 공사의 총 공사비용 (억 단위).\n",
    "- **공종 (`construction_type`)**: 공사의 종류 (1: 토목/기초, 2: 골조/구조, 3: 설비/마감, 4: 외장/조경).\n",
    "- **근무기간 (`work_duration`)**: 노동자의 현재 근무지에서의 근무 기간 (월 단위).\n",
    "- **외국인 근무자 여부 (`foreign_worker`)**: 노동자가 외국인인지 여부 (1: 외국인, 0: 내국인).\n",
    "- **연령 (`age`)**: 노동자의 나이.\n",
    "- **교육빈도/교육이수횟수 (`education_count`)**: 노동자가 안전 교육을 받은 총 횟수 (Potential Accident Level 기반).\n",
    "- **사고 이력 (`accident_history`)**: 과거에 사고를 경험한 적이 있는지 여부 (1: 있음, 0: 없음).\n",
    "- **안전장구 미착용 경고 횟수 (`warnings`)**: 안전 장비 미착용으로 받은 경고 횟수.\n",
    "- **작업자 숙련도 (`skill_level`)**: 노동자의 숙련도 (1: 하, 2: 중, 3: 상).\n",
    "- **안전 규정 준수 점수 (`compliance_score`)**: 안전 규정을 준수하는 정도를 평가한 점수 (0~100점, Potential Accident Level 기반).\n",
    "- **작업 시간 (`work_hours`)**: 일일 평균 작업 시간 (시간 단위).\n",
    "- **사고 여부 (`accident`)**: 해당 작업의 사고 여부 (1: 사고, 0: 사고 없음)."
   ]
  },
  {
   "cell_type": "markdown",
   "metadata": {},
   "source": [
    "데이터 원본: https://www.kaggle.com/datasets/ihmstefanini/industrial-safety-and-health-analytics-database"
   ]
  },
  {
   "cell_type": "code",
   "execution_count": 25,
   "metadata": {},
   "outputs": [],
   "source": [
    "# 1. 패키지 불러오기 및 데이터 로드\n",
    "import pandas as pd\n",
    "import sweetviz as sv\n",
    "from sklearn.model_selection import train_test_split\n",
    "from sklearn.ensemble import RandomForestClassifier\n",
    "from sklearn.preprocessing import StandardScaler\n",
    "from sklearn.metrics import confusion_matrix, precision_score, recall_score, accuracy_score, classification_report\n",
    "import matplotlib.pyplot as plt\n",
    "import seaborn as sns\n",
    "\n",
    "# 데이터 로드\n",
    "data = pd.read_excel('2조_데이터.xlsx')"
   ]
  },
  {
   "cell_type": "code",
   "execution_count": null,
   "metadata": {},
   "outputs": [],
   "source": [
    "# 2. 데이터 구조 보기\n",
    "print(\"데이터 구조:\")\n",
    "print(data.info())\n",
    "print(\"\\n데이터 샘플:\")\n",
    "print(data.head())"
   ]
  },
  {
   "cell_type": "code",
   "execution_count": null,
   "metadata": {},
   "outputs": [],
   "source": [
    "# 3. Sweetviz를 활용한 EDA\n",
    "eda_report = sv.analyze(data)\n",
    "eda_report.show_notebook()"
   ]
  },
  {
   "cell_type": "code",
   "execution_count": 26,
   "metadata": {},
   "outputs": [],
   "source": [
    "# 4. 데이터 분리\n",
    "X = data.drop(columns=['accident'])  # 독립 변수\n",
    "y = data['accident']                 # 종속 변수\n",
    "# 수치형 변수만 선택 (Random Forest는 숫자 데이터를 요구)\n",
    "X = pd.get_dummies(X, columns=['construction_type', 'foreign_worker', 'skill_level'], drop_first=True)\n",
    "\n",
    "scaler = StandardScaler()\n",
    "X_scaled = scaler.fit_transform(X)\n",
    "\n",
    "X_train, X_test, y_train, y_test = train_test_split(X_scaled, y, test_size=0.2, random_state=42)"
   ]
  },
  {
   "cell_type": "code",
   "execution_count": 27,
   "metadata": {},
   "outputs": [],
   "source": [
    "# 5. Random Forest 모델링\n",
    "model = RandomForestClassifier(random_state=42, n_estimators=100)\n",
    "model.fit(X_train, y_train)\n",
    "\n",
    "# 예측\n",
    "y_pred = model.predict(X_test)"
   ]
  },
  {
   "cell_type": "code",
   "execution_count": null,
   "metadata": {},
   "outputs": [],
   "source": [
    "# 6. 결과 평가\n",
    "conf_matrix = confusion_matrix(y_test, y_pred)\n",
    "precision = precision_score(y_test, y_pred)\n",
    "recall = recall_score(y_test, y_pred)\n",
    "accuracy = accuracy_score(y_test, y_pred)\n",
    "\n",
    "print(\"Confusion Matrix:\")\n",
    "print(conf_matrix)\n",
    "print(\"\\nClassification Report:\")\n",
    "print(classification_report(y_test, y_pred))\n",
    "\n",
    "print(f\"Precision: {precision:.2f}, Recall: {recall:.2f}, Accuracy: {accuracy:.2f}\")"
   ]
  },
  {
   "cell_type": "code",
   "execution_count": null,
   "metadata": {},
   "outputs": [],
   "source": [
    "# 7. Feature Importance 시각화\n",
    "importances = model.feature_importances_\n",
    "features = X.columns\n",
    "\n",
    "plt.figure(figsize=(10, 6))\n",
    "sns.barplot(x=importances, y=features)\n",
    "plt.title('Feature Importance')\n",
    "plt.xlabel('Importance Score')\n",
    "plt.ylabel('Feature')\n",
    "plt.show()"
   ]
  },
  {
   "cell_type": "code",
   "execution_count": null,
   "metadata": {},
   "outputs": [],
   "source": []
  }
 ],
 "metadata": {
  "kernelspec": {
   "display_name": "base",
   "language": "python",
   "name": "python3"
  },
  "language_info": {
   "codemirror_mode": {
    "name": "ipython",
    "version": 3
   },
   "file_extension": ".py",
   "mimetype": "text/x-python",
   "name": "python",
   "nbconvert_exporter": "python",
   "pygments_lexer": "ipython3",
   "version": "3.11.7"
  }
 },
 "nbformat": 4,
 "nbformat_minor": 2
}
