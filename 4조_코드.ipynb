{
 "cells": [
  {
   "cell_type": "markdown",
   "metadata": {},
   "source": [
    "# 임직원 및 도서 정보를 토대로 한 도서 추천 시스템"
   ]
  },
  {
   "cell_type": "code",
   "execution_count": 5,
   "metadata": {},
   "outputs": [],
   "source": [
    "# 데이터 로드 및 라이브러리 불러오기\n",
    "import pandas as pd\n",
    "import numpy as np\n",
    "from sklearn.metrics.pairwise import cosine_similarity\n",
    "from sklearn.model_selection import train_test_split\n",
    "from sklearn.feature_extraction.text import TfidfVectorizer\n",
    "from konlpy.tag import Okt\n",
    "\n",
    "profile = pd.read_excel('4조_데이터.xlsx', sheet_name='가상인사자료(전처리 - 산식 제거)')\n",
    "order = pd.read_excel('4조_데이터.xlsx', sheet_name='기간별부서별주문목록')\n",
    "review = pd.read_excel('4조_데이터.xlsx', sheet_name='서평데이터')"
   ]
  },
  {
   "cell_type": "code",
   "execution_count": null,
   "metadata": {},
   "outputs": [],
   "source": [
    "# Train/Test Split: 전체 데이터를 기준으로 80:20 비율로 분리\n",
    "train, test = train_test_split(order, test_size=0.2, random_state=42)\n",
    "\n",
    "print(\"Train/Test 데이터 분리 완료\")\n",
    "print(f\"Train 데이터 크기: {train.shape}\")\n",
    "print(f\"Test 데이터 크기: {test.shape}\")"
   ]
  },
  {
   "cell_type": "code",
   "execution_count": null,
   "metadata": {},
   "outputs": [],
   "source": [
    "# Item-Based 추천: \"소분류\" 활용해 특징 벡터화\n",
    "okt = Okt()\n",
    "\n",
    "# Okt로 텍스트 토큰화\n",
    "def tokenize_korean(text):\n",
    "    tokens = okt.morphs(text)\n",
    "    return \" \".join(tokens)\n",
    "\n",
    "# Train 데이터에서 \"소분류\"를 활용\n",
    "train['processed_features'] = train['소분류'].fillna(\"\").apply(tokenize_korean)\n",
    "\n",
    "# TF-IDF로 특징 벡터화\n",
    "tfidf = TfidfVectorizer()\n",
    "book_features_matrix = tfidf.fit_transform(train['processed_features'])\n",
    "\n",
    "# 도서 간 코사인 유사도 계산\n",
    "book_similarity = cosine_similarity(book_features_matrix)\n",
    "\n",
    "# 유사도 데이터프레임 생성\n",
    "book_similarity_df = pd.DataFrame(book_similarity, index=train['상품명'], columns=train['상품명'])\n",
    "\n",
    "print(\"도서 간 유사도 계산 완료\")\n",
    "print(book_similarity_df.head())"
   ]
  },
  {
   "cell_type": "code",
   "execution_count": null,
   "metadata": {},
   "outputs": [],
   "source": [
    "# Review 데이터에서 \"만족도 평가\"를 평균 점수로 계산\n",
    "train_review = review.merge(train, left_on=\"ISBN\", right_on=\"상품코드\", how=\"inner\")\n",
    "train_review['만족도 평가'] = pd.to_numeric(train_review['만족도 평가'], errors=\"coerce\").fillna(0)\n",
    "\n",
    "# 도서별 평균 만족도 계산\n",
    "book_ratings = train_review.groupby('도서명')['만족도 평가'].mean()\n",
    "print(\"도서별 평균 만족도 계산 완료\")\n",
    "print(book_ratings.head())"
   ]
  },
  {
   "cell_type": "code",
   "execution_count": null,
   "metadata": {},
   "outputs": [],
   "source": [
    "# Train 데이터에서 도서 판매량 집계\n",
    "book_popularity = train.groupby('상품명')['수량'].sum()\n",
    "print(\"도서별 판매량 집계 완료\")\n",
    "print(book_popularity.head())\n",
    "\n",
    "# \"베스트셀러 여부\"를 가중치로 반영\n",
    "bestseller_weights = train.set_index('상품명')['베스트셀러 여부'].apply(lambda x: 1.2 if x == \"해당\" else 1.0)\n",
    "print(\"베스트셀러 여부 가중치 적용 완료\")\n",
    "print(bestseller_weights.head())"
   ]
  },
  {
   "cell_type": "code",
   "execution_count": null,
   "metadata": {},
   "outputs": [],
   "source": [
    "# Item-Based 추천: 특정 도서와 유사한 도서 추천\n",
    "book_name = '트렌드 코리아 2024'  # 추천 기준 도서\n",
    "\n",
    "# 유사 도서 상위 5개 추출\n",
    "similar_books = book_similarity_df[book_name]\n",
    "similar_books = similar_books[similar_books.index != book_name]  # 자기 자신 제외\n",
    "similar_books = similar_books.iloc[:, 0]\n",
    "similar_books = similar_books.drop_duplicates()\n",
    "similar_books = similar_books.sort_values(ascending=False)  # 유사도 기준 정렬\n",
    "similar_books = similar_books.head(5)\n",
    "\n",
    "print(\"추천된 유사 도서:\")\n",
    "print(similar_books)\n"
   ]
  },
  {
   "cell_type": "code",
   "execution_count": null,
   "metadata": {},
   "outputs": [],
   "source": []
  }
 ],
 "metadata": {
  "kernelspec": {
   "display_name": "base",
   "language": "python",
   "name": "python3"
  },
  "language_info": {
   "codemirror_mode": {
    "name": "ipython",
    "version": 3
   },
   "file_extension": ".py",
   "mimetype": "text/x-python",
   "name": "python",
   "nbconvert_exporter": "python",
   "pygments_lexer": "ipython3",
   "version": "3.11.7"
  }
 },
 "nbformat": 4,
 "nbformat_minor": 2
}
