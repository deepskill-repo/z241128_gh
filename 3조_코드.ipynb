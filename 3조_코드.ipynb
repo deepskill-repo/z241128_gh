{
 "cells": [
  {
   "cell_type": "markdown",
   "metadata": {},
   "source": [
    "# 지역 특성을 반영한 계약 건수 및 업무량 예측"
   ]
  },
  {
   "cell_type": "markdown",
   "metadata": {},
   "source": [
    "- **지역 (`city`)**: 분석 대상이 되는 도시 이름  \n",
    "- **연도 (`year`)**: 데이터의 기준 연도  \n",
    "- **지역 인구수 (`regional_population`)**: 각 도시의 인구수  \n",
    "- **신규 유입 인구수 (`new_inflow_population`)**: 연도별 신규 유입 인구수  \n",
    "- **저소득 고령자 인구수 (`low_income_elderly_population`)**: 저소득 고령자의 수  \n",
    "- **한부모 가정 수 (`single_parent_households`)**: 한부모 가정의 수  \n",
    "- **생계의료비 수급자 수 (`low_income_assistance`)**: 생계의료비를 지원받는 인구수  \n",
    "- **전세 지원 사업 여부 (`rental_support_area`)**: 전세 지원 사업 시행 여부 (True/False)  \n",
    "- **계약 건수 (`contracts`)**: 해당 지역의 총 계약 건수  \n",
    "- **민원 건수 (`complaints`)**: 해당 지역의 민원 건수  "
   ]
  },
  {
   "cell_type": "markdown",
   "metadata": {},
   "source": [
    "데이터 원본: https://www.kaggle.com/datasets/anthonypino/melbourne-housing-market"
   ]
  },
  {
   "cell_type": "code",
   "execution_count": null,
   "metadata": {},
   "outputs": [],
   "source": [
    "# 1. 패키지 불러오기 및 데이터 로드\n",
    "import pandas as pd\n",
    "import numpy as np\n",
    "from sklearn.model_selection import train_test_split\n",
    "from sklearn.ensemble import RandomForestRegressor\n",
    "from sklearn.preprocessing import StandardScaler\n",
    "from sklearn.metrics import mean_squared_error, mean_absolute_error, r2_score\n",
    "import matplotlib.pyplot as plt\n",
    "import seaborn as sns\n",
    "\n",
    "# 데이터 로드\n",
    "data = pd.read_excel('3조_데이터.xlsx')\n",
    "\n",
    "# 데이터 구조 보기\n",
    "print(\"데이터 구조:\")\n",
    "print(data.info())\n",
    "print(\"\\n데이터 샘플:\")\n",
    "print(data.head())"
   ]
  },
  {
   "cell_type": "code",
   "execution_count": 7,
   "metadata": {},
   "outputs": [],
   "source": [
    "# 2. 데이터 분리\n",
    "# 예측에 필요하지 않은 변수 제거\n",
    "X = data.drop(columns=['city', 'year', 'complaints', 'contracts'])  # 독립 변수\n",
    "y = data['contracts']  # 종속 변수\n",
    "\n",
    "# 수치형 변수만 선택 (Random Forest는 숫자 데이터를 요구)\n",
    "X = pd.get_dummies(X, columns=['rental_support_area'], drop_first=True)\n",
    "\n",
    "# 스케일링\n",
    "scaler = StandardScaler()\n",
    "X_scaled = scaler.fit_transform(X)\n",
    "\n",
    "# 데이터 분리\n",
    "X_train, X_test, y_train, y_test = train_test_split(X_scaled, y, test_size=0.2, random_state=42)"
   ]
  },
  {
   "cell_type": "code",
   "execution_count": 8,
   "metadata": {},
   "outputs": [],
   "source": [
    "# 3. Random Forest Regressor 모델링\n",
    "model = RandomForestRegressor(random_state=42, n_estimators=100)\n",
    "model.fit(X_train, y_train)\n",
    "\n",
    "# 예측\n",
    "y_pred = model.predict(X_test)"
   ]
  },
  {
   "cell_type": "code",
   "execution_count": null,
   "metadata": {},
   "outputs": [],
   "source": [
    "# 4. 결과 평가\n",
    "mse = mean_squared_error(y_test, y_pred)\n",
    "mae = mean_absolute_error(y_test, y_pred)\n",
    "r2 = r2_score(y_test, y_pred)\n",
    "\n",
    "print(f\"Mean Squared Error (MSE): {mse:.2f}\")\n",
    "print(f\"Mean Absolute Error (MAE): {mae:.2f}\")\n",
    "print(f\"R-Squared (R²): {r2:.2f}\")"
   ]
  },
  {
   "cell_type": "code",
   "execution_count": null,
   "metadata": {},
   "outputs": [],
   "source": [
    "# 5. Feature Importance 시각화\n",
    "importances = model.feature_importances_\n",
    "features = X.columns\n",
    "\n",
    "plt.figure(figsize=(10, 6))\n",
    "sns.barplot(x=importances, y=features)\n",
    "plt.title('Feature Importance')\n",
    "plt.xlabel('Importance Score')\n",
    "plt.ylabel('Feature')\n",
    "plt.show()"
   ]
  },
  {
   "cell_type": "code",
   "execution_count": 14,
   "metadata": {},
   "outputs": [],
   "source": [
    "# 6. Complaints Ratio 계산\n",
    "complaints_ratio = data.groupby('city').apply(\n",
    "    lambda x: x['complaints'].sum() / x['contracts'].sum()\n",
    ").reset_index()\n",
    "complaints_ratio.columns = ['city', 'complaints_ratio']\n",
    "\n",
    "# Complaints Ratio를 데이터에 추가\n",
    "data = data.merge(complaints_ratio, on='city', how='left')"
   ]
  },
  {
   "cell_type": "code",
   "execution_count": null,
   "metadata": {},
   "outputs": [],
   "source": [
    "# 7. Complaints 예측\n",
    "# X_test의 인덱스를 y_pred와 매칭하기 위해 y_test의 인덱스를 사용\n",
    "y_pred_complaints = y_pred * data.loc[y_test.index, 'complaints_ratio'].values\n",
    "\n",
    "# Complaints 예측 결과 반올림\n",
    "y_pred_complaints = np.round(y_pred_complaints).astype(int)\n",
    "\n",
    "# Complaints 예측 결과 출력\n",
    "predicted_complaints = pd.DataFrame({\n",
    "    'city': data.loc[y_test.index, 'city'].values,\n",
    "    'predicted_contracts': np.round(y_pred).astype(int),\n",
    "    'predicted_complaints': y_pred_complaints\n",
    "})\n",
    "print(predicted_complaints.head())"
   ]
  },
  {
   "cell_type": "code",
   "execution_count": null,
   "metadata": {},
   "outputs": [],
   "source": []
  }
 ],
 "metadata": {
  "kernelspec": {
   "display_name": "base",
   "language": "python",
   "name": "python3"
  },
  "language_info": {
   "codemirror_mode": {
    "name": "ipython",
    "version": 3
   },
   "file_extension": ".py",
   "mimetype": "text/x-python",
   "name": "python",
   "nbconvert_exporter": "python",
   "pygments_lexer": "ipython3",
   "version": "3.11.7"
  }
 },
 "nbformat": 4,
 "nbformat_minor": 2
}
