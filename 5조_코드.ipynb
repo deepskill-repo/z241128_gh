{
 "cells": [
  {
   "cell_type": "markdown",
   "metadata": {},
   "source": [
    "# 전세 거래 건수 통한 전세 피해 예측"
   ]
  },
  {
   "cell_type": "markdown",
   "metadata": {},
   "source": [
    "- 부동산 유형 (`property_type`): 부동산 유형 (아파트, 오피스텔, 빌라)\n",
    "- 보증금 액수 (`deposit_amount`): 보증금 금액 (억 단위)\n",
    "- 보증금의 비율 (`deposit_ratio`): 보증금의 비율 (0~1 사이의 소수점)\n",
    "- 소유자 연령대 (`owner_age`): 소유자의 나이 (20~79세)\n",
    "- 소유자 채무 잔액 (`owner_debt`): 소유자의 채무 잔액 (억 단위)\n",
    "- 임차인 신뢰 상태 (`tenant_trust`): 임차인의 신뢰 상태 (신뢰 가능, 주의 요망, 높은 위험)\n",
    "- 계약 만료 여부 (`contract_expiry`): 계약 만료 여부 (True: 만료, False: 미만료)\n",
    "- 결혼 상태 (`marriage_status`): 임차인의 결혼 상태 (청년, 신혼부부, 혼인10년 이상)\n",
    "- 권리 침해 기록 (`legal_dispute`): 가압류, 가처분, 압류 등 권리 침해 기록 여부 (True: 있음, False: 없음)\n",
    "- 사기 여부 (`fraudulent`): 해당 거래의 사기 여부 (True: 사기, False: 정상)"
   ]
  },
  {
   "cell_type": "markdown",
   "metadata": {},
   "source": [
    "데이터 원본: https://www.kaggle.com/datasets/ranjeetshrivastav/fraud-detection-dataset"
   ]
  },
  {
   "cell_type": "code",
   "execution_count": 15,
   "metadata": {},
   "outputs": [],
   "source": [
    "# 1. 패키지 불러오기 및 데이터 로드\n",
    "import pandas as pd\n",
    "import sweetviz as sv\n",
    "from sklearn.model_selection import train_test_split\n",
    "from sklearn.ensemble import RandomForestClassifier\n",
    "from sklearn.preprocessing import StandardScaler\n",
    "from sklearn.metrics import confusion_matrix, precision_score, recall_score, accuracy_score, classification_report\n",
    "import matplotlib.pyplot as plt\n",
    "import seaborn as sns\n",
    "\n",
    "# 데이터 로드\n",
    "data = pd.read_excel('5조_데이터.xlsx')"
   ]
  },
  {
   "cell_type": "code",
   "execution_count": null,
   "metadata": {},
   "outputs": [],
   "source": [
    "# 2. 데이터 구조 보기\n",
    "print(\"데이터 구조:\")\n",
    "print(data.info())\n",
    "print(\"\\n데이터 샘플:\")\n",
    "print(data.head())"
   ]
  },
  {
   "cell_type": "code",
   "execution_count": null,
   "metadata": {},
   "outputs": [],
   "source": [
    "# 3. Sweetviz를 활용한 EDA\n",
    "eda_report = sv.analyze(data)\n",
    "eda_report.show_notebook()"
   ]
  },
  {
   "cell_type": "code",
   "execution_count": 17,
   "metadata": {},
   "outputs": [],
   "source": [
    "# 4. 데이터 분리\n",
    "X = data.drop(columns=['fraudulent'])  # 독립 변수\n",
    "y = data['fraudulent']                # 종속 변수\n",
    "# 수치형 변수만 선택 (Random Forest는 숫자 데이터를 요구)\n",
    "X = pd.get_dummies(X, columns=['property_type', 'tenant_trust', 'marriage_status'], drop_first=True)\n",
    "\n",
    "scaler = StandardScaler()\n",
    "X_scaled = scaler.fit_transform(X)\n",
    "\n",
    "X_train, X_test, y_train, y_test = train_test_split(X_scaled, y, test_size=0.2, random_state=42)"
   ]
  },
  {
   "cell_type": "code",
   "execution_count": 18,
   "metadata": {},
   "outputs": [],
   "source": [
    "# 5. Random Forest 모델링\n",
    "model = RandomForestClassifier(random_state=42, n_estimators=100)\n",
    "model.fit(X_train, y_train)\n",
    "\n",
    "# 예측\n",
    "y_pred = model.predict(X_test)"
   ]
  },
  {
   "cell_type": "code",
   "execution_count": null,
   "metadata": {},
   "outputs": [],
   "source": [
    "# 6. 결과 평가\n",
    "conf_matrix = confusion_matrix(y_test, y_pred)\n",
    "precision = precision_score(y_test, y_pred)\n",
    "recall = recall_score(y_test, y_pred)\n",
    "accuracy = accuracy_score(y_test, y_pred)\n",
    "\n",
    "print(\"Confusion Matrix:\")\n",
    "print(conf_matrix)\n",
    "print(\"\\nClassification Report:\")\n",
    "print(classification_report(y_test, y_pred))\n",
    "\n",
    "print(f\"Precision: {precision:.2f}, Recall: {recall:.2f}, Accuracy: {accuracy:.2f}\")"
   ]
  },
  {
   "cell_type": "code",
   "execution_count": null,
   "metadata": {},
   "outputs": [],
   "source": [
    "# 7. Feature Importance 시각화\n",
    "importances = model.feature_importances_\n",
    "features = X.columns\n",
    "\n",
    "plt.figure(figsize=(10, 6))\n",
    "sns.barplot(x=importances, y=features)\n",
    "plt.title('Feature Importance')\n",
    "plt.xlabel('Importance Score')\n",
    "plt.ylabel('Feature')\n",
    "plt.show()"
   ]
  },
  {
   "cell_type": "code",
   "execution_count": null,
   "metadata": {},
   "outputs": [],
   "source": []
  }
 ],
 "metadata": {
  "kernelspec": {
   "display_name": "base",
   "language": "python",
   "name": "python3"
  },
  "language_info": {
   "codemirror_mode": {
    "name": "ipython",
    "version": 3
   },
   "file_extension": ".py",
   "mimetype": "text/x-python",
   "name": "python",
   "nbconvert_exporter": "python",
   "pygments_lexer": "ipython3",
   "version": "3.11.7"
  }
 },
 "nbformat": 4,
 "nbformat_minor": 2
}
