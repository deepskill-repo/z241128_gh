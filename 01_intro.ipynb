{
 "cells": [
  {
   "cell_type": "markdown",
   "metadata": {},
   "source": [
    "# Warm-up"
   ]
  },
  {
   "cell_type": "markdown",
   "metadata": {},
   "source": [
    "간단한 코드의 예시입니다. 변경/추가해 보면서 테스트해보세요."
   ]
  },
  {
   "cell_type": "code",
   "execution_count": null,
   "metadata": {},
   "outputs": [],
   "source": [
    "1+1"
   ]
  },
  {
   "cell_type": "code",
   "execution_count": null,
   "metadata": {},
   "outputs": [],
   "source": [
    "print(\"Hello World\")"
   ]
  },
  {
   "cell_type": "code",
   "execution_count": null,
   "metadata": {},
   "outputs": [],
   "source": []
  },
  {
   "cell_type": "markdown",
   "metadata": {},
   "source": [
    "아래는 변수(variable)를 설정하는 예시입니다. 초보자 분들께서 자주 하시는 실수를 눈여겨보세요."
   ]
  },
  {
   "cell_type": "code",
   "execution_count": null,
   "metadata": {},
   "outputs": [],
   "source": [
    "a = 1   # 코멘트: 중간 과정을 설명해두면 소통에 도움이 됩니다\n",
    "print(a)"
   ]
  },
  {
   "cell_type": "code",
   "execution_count": null,
   "metadata": {},
   "outputs": [],
   "source": [
    "a = 1\n",
    "print(A)  # <- 이러면 어떻게 될까요?"
   ]
  },
  {
   "cell_type": "code",
   "execution_count": null,
   "metadata": {},
   "outputs": [],
   "source": [
    "# x = 1"
   ]
  },
  {
   "cell_type": "code",
   "execution_count": null,
   "metadata": {},
   "outputs": [],
   "source": [
    "print(x)"
   ]
  },
  {
   "cell_type": "code",
   "execution_count": null,
   "metadata": {},
   "outputs": [],
   "source": []
  },
  {
   "cell_type": "markdown",
   "metadata": {},
   "source": [
    "# 1. 파이썬 vs 엑셀"
   ]
  },
  {
   "cell_type": "code",
   "execution_count": null,
   "metadata": {},
   "outputs": [],
   "source": [
    "# 1.1 math 패키지 불러오기\n",
    "import math\n",
    "\n",
    "# 새로운 패키지 설치\n",
    "# !pip install <새로운 패키지>"
   ]
  },
  {
   "cell_type": "code",
   "execution_count": null,
   "metadata": {},
   "outputs": [],
   "source": [
    "# 1.2 [TASK] pandas 패키지 불러오기\n",
    "import pandas"
   ]
  },
  {
   "cell_type": "code",
   "execution_count": null,
   "metadata": {},
   "outputs": [],
   "source": [
    "# 1.3 엑셀 파일 불러오기\n",
    "pandas.read_excel(\"customer.xlsx\")"
   ]
  },
  {
   "cell_type": "code",
   "execution_count": null,
   "metadata": {},
   "outputs": [],
   "source": [
    "# 1.4 패키지 이름 축약\n",
    "import pandas as pd\n",
    "pd.read_excel(\"customer.xlsx\")"
   ]
  },
  {
   "cell_type": "code",
   "execution_count": 1,
   "metadata": {},
   "outputs": [],
   "source": [
    "# 1.5 변수로 저장\n",
    "import pandas as pd\n",
    "customer = pd.read_excel(\"customer.xlsx\")"
   ]
  },
  {
   "cell_type": "code",
   "execution_count": null,
   "metadata": {},
   "outputs": [],
   "source": [
    "# 1.6 출력 후 확인\n",
    "import pandas as pd\n",
    "customer = pd.read_excel(\"customer.xlsx\")\n",
    "customer.head()"
   ]
  },
  {
   "cell_type": "code",
   "execution_count": null,
   "metadata": {},
   "outputs": [],
   "source": [
    "# 1.7 데이터 확인\n",
    "# .head()\n",
    "# .info()\n",
    "# .describe()\n",
    "# 위 기능 등을 확인해보세요 예를 들어..\n",
    "customer.info()"
   ]
  },
  {
   "cell_type": "markdown",
   "metadata": {},
   "source": [
    "참고: data.info()의 결과를 챗GPT에게 알려주면 이후 질문을 쉽게 할 수 있습니다"
   ]
  },
  {
   "cell_type": "code",
   "execution_count": null,
   "metadata": {},
   "outputs": [],
   "source": [
    "# 1.8 열 선택\n",
    "customer[\"service\"]"
   ]
  },
  {
   "cell_type": "markdown",
   "metadata": {},
   "source": [
    "참고: 비교 연산자(comparison)\n",
    "\n",
    "* `==` (같음)\n",
    "* `!=` (같지 않음)\n",
    "* `<` (적음)\n",
    "* `>` (큼)\n",
    "* `<=` (적거나 같음)\n",
    "* `>=` (크거나 같음)"
   ]
  },
  {
   "cell_type": "code",
   "execution_count": null,
   "metadata": {},
   "outputs": [],
   "source": [
    "# 1.9 필터\n",
    "# 하나씩 시도해보세요\n",
    "# customer[customer[\"contract_status\"] == \"활성\"]\n",
    "# customer[customer[\"age\"] >= 30]\n",
    "# customer[customer[\"age\"] >= 30].reset_index(drop=True)"
   ]
  },
  {
   "cell_type": "code",
   "execution_count": null,
   "metadata": {},
   "outputs": [],
   "source": [
    "# [TASK] 1.10 필터\n",
    "# \"VoIP\" 서비스만 남기려면?\n",
    "\n",
    "# 청구 금액(billing amount) 10만원 이상 고객만 남기려면?\n",
    "\n",
    "# 청구 금액(billing amount) 10만원 이상이면서 프로모션 할인(promo_amount)가 0인 고객만 남기려면?\n"
   ]
  },
  {
   "cell_type": "code",
   "execution_count": null,
   "metadata": {},
   "outputs": [],
   "source": [
    "# 1.11 [TASK] 새로운 열 프로모션 비중(promo_percent) 만들기\n",
    "customer[\"promo_percent\"] = customer[\"_____\"] * customer[\"_____\"]\n",
    "customer"
   ]
  },
  {
   "cell_type": "code",
   "execution_count": null,
   "metadata": {},
   "outputs": [],
   "source": [
    "# 1.12 데이터 요약하기\n",
    "customer[\"billing_amount\"].sum()"
   ]
  },
  {
   "cell_type": "code",
   "execution_count": null,
   "metadata": {},
   "outputs": [],
   "source": [
    "# 1.13 그룹별로 billing_amount 요약하기\n",
    "customer.groupby(\"region\")[\"billing_amount\"].sum()"
   ]
  },
  {
   "cell_type": "code",
   "execution_count": null,
   "metadata": {},
   "outputs": [],
   "source": [
    "# 1.14 [TASK] service 별로 billing_amount 요약하기\n"
   ]
  },
  {
   "cell_type": "code",
   "execution_count": null,
   "metadata": {},
   "outputs": [],
   "source": [
    "# 1.15 여러 열을 이용해 요약하기\n",
    "customer.groupby([\"service\", \"region\"])[\"billing_amount\"].sum()"
   ]
  },
  {
   "cell_type": "code",
   "execution_count": null,
   "metadata": {},
   "outputs": [],
   "source": [
    "# 1.16 사용자 정의 함수 만들기\n",
    "def my_fun(x):\n",
    "    return x + 1\n",
    "\n",
    "my_fun(1)"
   ]
  },
  {
   "cell_type": "code",
   "execution_count": null,
   "metadata": {},
   "outputs": [],
   "source": [
    "# 1.17 회귀 모델 만들기\n",
    "import statsmodels.api as sm\n",
    "\n",
    "# 독립 변수(X)와 종속 변수(y) 정의\n",
    "X = sm.add_constant(customer[[\"age\", \"membership_weeks\"]])\n",
    "y = customer[\"billing_amount\"]\n",
    "\n",
    "# 선형 회귀 모델 학습\n",
    "linear_model = sm.OLS(y, X).fit()\n",
    "print(linear_model.summary())"
   ]
  },
  {
   "cell_type": "code",
   "execution_count": null,
   "metadata": {},
   "outputs": [],
   "source": [
    "# 1.18 모델로 예측하기\n",
    "predictions = linear_model.predict(X)                     # 1. 예측을 위한 명령어\n",
    "customer[\"billing_amount_predicted\"] = predictions        # 2. 예측 결과를 별도 열에 저장\n",
    "customer[[\"billing_amount\", \"billing_amount_predicted\"]]  # 3. 실제와 예측을 비교"
   ]
  },
  {
   "cell_type": "code",
   "execution_count": null,
   "metadata": {},
   "outputs": [],
   "source": [
    "# 1.19 [TASK] 결과를 엑셀 파일 \"customer_modelled.xlsx\" 로 출력하세요\n",
    "customer._____(\"customer_modelled.xlsx\")"
   ]
  },
  {
   "cell_type": "code",
   "execution_count": null,
   "metadata": {},
   "outputs": [],
   "source": [
    "# 1.20 시각화로 확인하기\n",
    "# 참고: https://plotly.com/python/line-and-scatter/\n",
    "import plotly.express as px\n",
    "fig = px.scatter(customer, x=\"billing_amount\", y=\"billing_amount_predicted\")\n",
    "fig.update_layout(width=800, height=600).show()"
   ]
  }
 ],
 "metadata": {
  "kernelspec": {
   "display_name": "Python 3",
   "language": "python",
   "name": "python3"
  },
  "language_info": {
   "codemirror_mode": {
    "name": "ipython",
    "version": 3
   },
   "file_extension": ".py",
   "mimetype": "text/x-python",
   "name": "python",
   "nbconvert_exporter": "python",
   "pygments_lexer": "ipython3",
   "version": "3.11.7"
  },
  "orig_nbformat": 4
 },
 "nbformat": 4,
 "nbformat_minor": 2
}
