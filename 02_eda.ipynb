{
 "cells": [
  {
   "cell_type": "markdown",
   "metadata": {},
   "source": [
    "# 2. 탐색적 데이터 분석(EDA)"
   ]
  },
  {
   "cell_type": "code",
   "execution_count": null,
   "metadata": {},
   "outputs": [],
   "source": [
    "# 2.1 [TASK] \"customer.xlsx\" 데이터를 불러옵니다 (ChatGPT 혹은 이전 실습 코드를 활용)\n"
   ]
  },
  {
   "cell_type": "markdown",
   "metadata": {},
   "source": [
    "아래에 주어진 질문에 대해 코드를 활용해 답해보세요. \n",
    "\n",
    "ChatGPT(혹은 다른 생성 AI)를 활용하셔도 좋습니다. 무료 버전으로 진행하셔도 무방합니다.\n",
    "\n",
    "질문 요령:\n",
    "\n",
    "```\n",
    "customer = pd.read_excel(\"customer.xlsx\")\n",
    "customer.info()\n",
    "---\n",
    "<...customer.info()의 결과를 붙여넣으세요...>\n",
    "---\n",
    "앞으로 내가 질문을 하면 이를 답하기 위한 파이썬 코드를 작성해 줘.\n",
    "```"
   ]
  },
  {
   "cell_type": "code",
   "execution_count": null,
   "metadata": {},
   "outputs": [],
   "source": [
    "# 2.2 [TASK] 청구 금액이 가장 높은 지역은 어디인가요?\n"
   ]
  },
  {
   "cell_type": "code",
   "execution_count": null,
   "metadata": {},
   "outputs": [],
   "source": [
    "# 2.3 [TASK] 서비스 별 평균 청구 금액을 계산하세요.\n"
   ]
  },
  {
   "cell_type": "code",
   "execution_count": null,
   "metadata": {},
   "outputs": [],
   "source": [
    "# 2.4 [TASK] 청구 금액의 분포를 히스토그램으로 시각화하세요.\n"
   ]
  },
  {
   "cell_type": "code",
   "execution_count": null,
   "metadata": {},
   "outputs": [],
   "source": [
    "# 2.5 [TASK] 서비스 별 가입연도별 청구금액을 교차표로 정리해주세요.\n"
   ]
  },
  {
   "cell_type": "code",
   "execution_count": null,
   "metadata": {},
   "outputs": [],
   "source": [
    "# 2.6 [TASK] 계약 상태에 따른 평균 프로모션 비중(= 프로모션 금액 / 청구 금액)을 계산하세요.\n"
   ]
  },
  {
   "cell_type": "markdown",
   "metadata": {},
   "source": [
    "아래는 전형적인 EDA를 한번에 하는 예시입니다.\n",
    "\n",
    "유용한 패키지들 참고: [링크](https://cornellius.substack.com/p/python-packages-for-automated-eda)."
   ]
  },
  {
   "cell_type": "code",
   "execution_count": null,
   "metadata": {},
   "outputs": [],
   "source": [
    "# 2.7 패키지 설치 (코멘트를 푸신 후 실행한 다음 다시 코멘트 처리하시면 됩니다)\n",
    "# !pip install sweetviz"
   ]
  },
  {
   "cell_type": "code",
   "execution_count": null,
   "metadata": {},
   "outputs": [],
   "source": [
    "# 2.8 레포트 생성\n",
    "import warnings\n",
    "import sweetviz as sv\n",
    "\n",
    "warnings.filterwarnings('ignore')\n",
    "my_report = sv.analyze(customer)\n",
    "my_report.show_notebook()"
   ]
  }
 ],
 "metadata": {
  "kernelspec": {
   "display_name": "base",
   "language": "python",
   "name": "python3"
  },
  "language_info": {
   "codemirror_mode": {
    "name": "ipython",
    "version": 3
   },
   "file_extension": ".py",
   "mimetype": "text/x-python",
   "name": "python",
   "nbconvert_exporter": "python",
   "pygments_lexer": "ipython3",
   "version": "3.11.7"
  }
 },
 "nbformat": 4,
 "nbformat_minor": 2
}
