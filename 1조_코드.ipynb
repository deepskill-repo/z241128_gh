{
 "cells": [
  {
   "cell_type": "markdown",
   "metadata": {},
   "source": [
    "# 임직원 데이터 기반 퇴사 확률 예측"
   ]
  },
  {
   "cell_type": "markdown",
   "metadata": {},
   "source": [
    "- 나이 그룹 (`age_group`): 직원의 나이를 30대 초반 이하(0)와 30대 중반 이상(1)으로 구분.\n",
    "- 자녀 수 (`num_children`): 직원이 보유한 자녀 수 (나이에 따라 확률적으로 0~3명).\n",
    "- 근무지 (`unfavorable_location`): 직원의 근무지가 기피 지역인지 여부 (1: 거리 10km 이상, 0: 거리 10km 이하).\n",
    "- 직렬 (`is_support`): 직무가 지원 부서인지 여부 (1: 지원 부서, 0: 사업 부서).\n",
    "- 전문 자격증 보유 여부 (`has_certification`): 직원이 전문 자격증을 보유했는지 여부 (1: 있음, 0: 없음).\n",
    "- 야근 횟수 (`overtime_hours`): 지난 1년간 야근 횟수 (0~15회, OverTime 변수 기반).\n",
    "- 고충 이용 여부 (`used_complaint_service`): 직원이 고충 처리 서비스를 이용했는지 여부 (1: 있음, 0: 없음).\n",
    "- 퇴사 여부 (`attrition`): 직원의 퇴사 여부 (True: 퇴사, False: 재직)."
   ]
  },
  {
   "cell_type": "markdown",
   "metadata": {},
   "source": [
    "데이터 원본: https://www.kaggle.com/datasets/pavansubhasht/ibm-hr-analytics-attrition-dataset/data"
   ]
  },
  {
   "cell_type": "code",
   "execution_count": 5,
   "metadata": {},
   "outputs": [],
   "source": [
    "# 1. 패키지 불러오기 및 데이터 로드\n",
    "import pandas as pd\n",
    "import sweetviz as sv\n",
    "from sklearn.model_selection import train_test_split\n",
    "from sklearn.ensemble import RandomForestClassifier\n",
    "from sklearn.preprocessing import StandardScaler\n",
    "from sklearn.metrics import confusion_matrix, precision_score, recall_score, accuracy_score, classification_report\n",
    "import matplotlib.pyplot as plt\n",
    "import seaborn as sns\n",
    "\n",
    "# 데이터 로드\n",
    "data = pd.read_excel('1조_데이터.xlsx')"
   ]
  },
  {
   "cell_type": "code",
   "execution_count": null,
   "metadata": {},
   "outputs": [],
   "source": [
    "# 2. 데이터 구조 보기\n",
    "print(\"데이터 구조:\")\n",
    "print(data.info())\n",
    "print(\"\\n데이터 샘플:\")\n",
    "print(data.head())"
   ]
  },
  {
   "cell_type": "code",
   "execution_count": null,
   "metadata": {},
   "outputs": [],
   "source": [
    "# 3. Sweetviz를 활용한 EDA\n",
    "eda_report = sv.analyze(data)\n",
    "eda_report.show_notebook()"
   ]
  },
  {
   "cell_type": "code",
   "execution_count": 7,
   "metadata": {},
   "outputs": [],
   "source": [
    "# 4. 데이터 분리\n",
    "X = data.drop(columns=['attrition'])  # 독립 변수\n",
    "y = data['attrition']                 # 종속 변수\n",
    "# 수치형 변수만 선택 (Random Forest는 숫자 데이터를 요구)\n",
    "X = pd.get_dummies(X, columns=['is_support'], drop_first=True)\n",
    "\n",
    "scaler = StandardScaler()\n",
    "X_scaled = scaler.fit_transform(X)\n",
    "\n",
    "X_train, X_test, y_train, y_test = train_test_split(X_scaled, y, test_size=0.2, random_state=42)"
   ]
  },
  {
   "cell_type": "code",
   "execution_count": 8,
   "metadata": {},
   "outputs": [],
   "source": [
    "# 5. Random Forest 모델링\n",
    "model = RandomForestClassifier(random_state=42, n_estimators=100)\n",
    "model.fit(X_train, y_train)\n",
    "\n",
    "# 예측\n",
    "y_pred = model.predict(X_test)"
   ]
  },
  {
   "cell_type": "code",
   "execution_count": null,
   "metadata": {},
   "outputs": [],
   "source": [
    "# 6. 결과 평가\n",
    "conf_matrix = confusion_matrix(y_test, y_pred)\n",
    "precision = precision_score(y_test, y_pred)\n",
    "recall = recall_score(y_test, y_pred)\n",
    "accuracy = accuracy_score(y_test, y_pred)\n",
    "\n",
    "print(\"Confusion Matrix:\")\n",
    "print(conf_matrix)\n",
    "print(\"\\nClassification Report:\")\n",
    "print(classification_report(y_test, y_pred))\n",
    "\n",
    "print(f\"Precision: {precision:.2f}, Recall: {recall:.2f}, Accuracy: {accuracy:.2f}\")"
   ]
  },
  {
   "cell_type": "code",
   "execution_count": null,
   "metadata": {},
   "outputs": [],
   "source": [
    "# 7. Feature Importance 시각화\n",
    "importances = model.feature_importances_\n",
    "features = X.columns\n",
    "\n",
    "plt.figure(figsize=(10, 6))\n",
    "sns.barplot(x=importances, y=features)\n",
    "plt.title('Feature Importance')\n",
    "plt.xlabel('Importance Score')\n",
    "plt.ylabel('Feature')\n",
    "plt.show()"
   ]
  },
  {
   "cell_type": "code",
   "execution_count": null,
   "metadata": {},
   "outputs": [],
   "source": []
  }
 ],
 "metadata": {
  "kernelspec": {
   "display_name": "base",
   "language": "python",
   "name": "python3"
  },
  "language_info": {
   "codemirror_mode": {
    "name": "ipython",
    "version": 3
   },
   "file_extension": ".py",
   "mimetype": "text/x-python",
   "name": "python",
   "nbconvert_exporter": "python",
   "pygments_lexer": "ipython3",
   "version": "3.11.7"
  }
 },
 "nbformat": 4,
 "nbformat_minor": 2
}
